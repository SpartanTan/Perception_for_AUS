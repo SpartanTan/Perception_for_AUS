{
 "cells": [
  {
   "cell_type": "code",
   "execution_count": 1,
   "metadata": {},
   "outputs": [],
   "source": [
    "import sys\n",
    "import cv2\n",
    "from matplotlib import pyplot as plt\n",
    "import numpy as np\n",
    "import Ipynb_importer\n",
    "plt.gray()"
   ]
  },
  {
   "cell_type": "code",
   "execution_count": 2,
   "metadata": {},
   "outputs": [
    {
     "name": "stdout",
     "output_type": "stream",
     "text": [
      "importing Jupyter notebook from sad_func.ipynb\n"
     ]
    }
   ],
   "source": [
    "import sad_func\n",
    "#import hello_func"
   ]
  },
  {
   "cell_type": "code",
   "execution_count": null,
   "metadata": {},
   "outputs": [],
   "source": [
    "N = 3;"
   ]
  },
  {
   "cell_type": "code",
   "execution_count": 5,
   "metadata": {},
   "outputs": [
    {
     "name": "stdout",
     "output_type": "stream",
     "text": [
      "hello_sad\n",
      "(1361.0, 0.0, 0.0, 0.0)\n",
      "hello_sad\n",
      "(119.0, 0.0, 0.0, 0.0)\n",
      "hello_sad\n",
      "(1490.0, 0.0, 0.0, 0.0)\n",
      "119.0\n"
     ]
    }
   ],
   "source": [
    "temlpate_name = 'nose_left.png'\n",
    "match1 = 'nose1.png'\n",
    "match2 = 'nose2.png'\n",
    "match3 = 'nose3.png'\n",
    "\n",
    "match_reslut_1 = sad_func.sad( temlpate_name, match1)\n",
    "print(match_reslut_1)\n",
    "match_reslut_2 = sad_func.sad( temlpate_name, match2)\n",
    "print(match_reslut_2)\n",
    "match_reslut_3 = sad_func.sad( temlpate_name, match3)\n",
    "print(match_reslut_3)\n",
    "result = min(match_reslut_1, match_reslut_2, match_reslut_3)\n",
    "print(result[0])"
   ]
  },
  {
   "cell_type": "code",
   "execution_count": null,
   "metadata": {},
   "outputs": [],
   "source": []
  },
  {
   "cell_type": "code",
   "execution_count": null,
   "metadata": {},
   "outputs": [],
   "source": []
  }
 ],
 "metadata": {
  "kernelspec": {
   "display_name": "Python 3",
   "language": "python",
   "name": "python3"
  },
  "language_info": {
   "codemirror_mode": {
    "name": "ipython",
    "version": 3
   },
   "file_extension": ".py",
   "mimetype": "text/x-python",
   "name": "python",
   "nbconvert_exporter": "python",
   "pygments_lexer": "ipython3",
   "version": "3.7.3"
  }
 },
 "nbformat": 4,
 "nbformat_minor": 2
}
