{
 "cells": [
  {
   "cell_type": "code",
   "execution_count": 1,
   "metadata": {},
   "outputs": [],
   "source": [
    "import cv2\n",
    "from matplotlib import pyplot as plt\n",
    "import numpy as np"
   ]
  },
  {
   "cell_type": "code",
   "execution_count": 6,
   "metadata": {},
   "outputs": [],
   "source": [
    "def sad( templete_img_name, match_img_name):\n",
    "    print('hello_sad')\n",
    "    template = str(templete_img_name)\n",
    "    match = str(match_img_name)\n",
    "\n",
    "    template_img = cv2.imread(template)\n",
    "    template_img = template_img[...,1]\n",
    "    match_img = cv2.imread(match)\n",
    "    match_img = match_img[...,1]\n",
    "    \n",
    "    differences = np.zeros_like(template_img)\n",
    "    differences = cv2.absdiff(template_img,match_img)\n",
    "    print(differences.shape)\n",
    "    differences_sum = cv2.sumElems(differences)\n",
    "    #print(differences_sum)\n",
    "    return differences_sum"
   ]
  },
  {
   "cell_type": "code",
   "execution_count": 8,
   "metadata": {},
   "outputs": [
    {
     "name": "stdout",
     "output_type": "stream",
     "text": [
      "hello_sad\n",
      "(7, 7)\n",
      "(1361.0, 0.0, 0.0, 0.0)\n",
      "hello_sad\n",
      "(7, 7)\n",
      "(119.0, 0.0, 0.0, 0.0)\n",
      "hello_sad\n",
      "(7, 7)\n",
      "(1490.0, 0.0, 0.0, 0.0)\n",
      "119.0\n"
     ]
    }
   ],
   "source": [
    "temlpate_name = 'nose_left.png'\n",
    "match1 = 'nose1.png'\n",
    "match2 = 'nose2.png'\n",
    "match3 = 'nose3.png'\n",
    "match_reslut_1 = sad( temlpate_name, match1)\n",
    "print(match_reslut_1)\n",
    "match_reslut_2 = sad( temlpate_name, match2)\n",
    "print(match_reslut_2)\n",
    "match_reslut_3 = sad( temlpate_name, match3)\n",
    "print(match_reslut_3)\n",
    "result = min(match_reslut_1, match_reslut_2, match_reslut_3)\n",
    "print(result[0])"
   ]
  },
  {
   "cell_type": "code",
   "execution_count": null,
   "metadata": {},
   "outputs": [],
   "source": []
  }
 ],
 "metadata": {
  "kernelspec": {
   "display_name": "Python 3",
   "language": "python",
   "name": "python3"
  },
  "language_info": {
   "codemirror_mode": {
    "name": "ipython",
    "version": 3
   },
   "file_extension": ".py",
   "mimetype": "text/x-python",
   "name": "python",
   "nbconvert_exporter": "python",
   "pygments_lexer": "ipython3",
   "version": "3.7.3"
  }
 },
 "nbformat": 4,
 "nbformat_minor": 2
}
