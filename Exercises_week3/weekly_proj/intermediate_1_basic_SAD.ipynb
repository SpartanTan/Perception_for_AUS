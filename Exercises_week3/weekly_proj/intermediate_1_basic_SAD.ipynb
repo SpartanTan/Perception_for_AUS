{
 "cells": [
  {
   "cell_type": "code",
   "execution_count": 65,
   "metadata": {},
   "outputs": [
    {
     "data": {
      "text/plain": [
       "<Figure size 432x288 with 0 Axes>"
      ]
     },
     "metadata": {},
     "output_type": "display_data"
    }
   ],
   "source": [
    "import cv2\n",
    "from matplotlib import pyplot as plt\n",
    "import numpy as np\n",
    "plt.gray()\n",
    "\n",
    "x = 6\n",
    "y = 6"
   ]
  },
  {
   "cell_type": "code",
   "execution_count": 82,
   "metadata": {},
   "outputs": [
    {
     "name": "stdout",
     "output_type": "stream",
     "text": [
      "(7, 7)\n",
      "167\n"
     ]
    },
    {
     "data": {
      "image/png": "[encoded data removed]",
      "text/plain": [
       "<Figure size 432x288 with 1 Axes>"
      ]
     },
     "metadata": {
      "needs_background": "light"
     },
     "output_type": "display_data"
    }
   ],
   "source": [
    "s = 'nose_left.png'\n",
    "template_img = cv2.imread(s)\n",
    "template_img = template_img[...,1]\n",
    "plt.imshow(template_img)\n",
    "pix1 = template_img[x,y]\n",
    "min_val, max_val, min_loc, max_loc = cv2.minMaxLoc(template_img)\n",
    "print(template_img.shape)\n",
    "print(pix1)"
   ]
  },
  {
   "cell_type": "code",
   "execution_count": 75,
   "metadata": {
    "scrolled": true
   },
   "outputs": [
    {
     "name": "stdout",
     "output_type": "stream",
     "text": [
      "(7, 7)\n",
      "115\n"
     ]
    },
    {
     "data": {
      "image/png": "[encoded data removed]",
      "text/plain": [
       "<Figure size 432x288 with 1 Axes>"
      ]
     },
     "metadata": {
      "needs_background": "light"
     },
     "output_type": "display_data"
    }
   ],
   "source": [
    "match_img = cv2.imread(\"nose_right.png\")\n",
    "match_img = match_img[...,1]\n",
    "plt.imshow(match_img)\n",
    "pix2 = match_img[x,y]\n",
    "min_val, max_val, min_loc, max_loc = cv2.minMaxLoc(match_img)\n",
    "print(match_img.shape)\n",
    "print(pix2)"
   ]
  },
  {
   "cell_type": "code",
   "execution_count": 76,
   "metadata": {},
   "outputs": [
    {
     "name": "stdout",
     "output_type": "stream",
     "text": [
      "(7, 7)\n",
      "52\n"
     ]
    },
    {
     "data": {
      "image/png": "[encoded data removed]",
      "text/plain": [
       "<Figure size 432x288 with 1 Axes>"
      ]
     },
     "metadata": {
      "needs_background": "light"
     },
     "output_type": "display_data"
    }
   ],
   "source": [
    "differences = np.zeros_like(template_img)\n",
    "differences = cv2.absdiff(template_img,match_img)\n",
    "plt.imshow(differences)\n",
    "pix_diff = differences[x,y]\n",
    "print(differences.shape)\n",
    "print(pix_diff)"
   ]
  },
  {
   "cell_type": "code",
   "execution_count": 81,
   "metadata": {},
   "outputs": [
    {
     "name": "stdout",
     "output_type": "stream",
     "text": [
      "(7657.0, 0.0, 0.0, 0.0)\n"
     ]
    }
   ],
   "source": [
    "differences_sum = cv2.sumElems(differences)\n",
    "print(differences_sum)"
   ]
  },
  {
   "cell_type": "code",
   "execution_count": null,
   "metadata": {},
   "outputs": [],
   "source": []
  }
 ],
 "metadata": {
  "kernelspec": {
   "display_name": "Python 3",
   "language": "python",
   "name": "python3"
  },
  "language_info": {
   "codemirror_mode": {
    "name": "ipython",
    "version": 3
   },
   "file_extension": ".py",
   "mimetype": "text/x-python",
   "name": "python",
   "nbconvert_exporter": "python",
   "pygments_lexer": "ipython3",
   "version": "3.7.3"
  }
 },
 "nbformat": 4,
 "nbformat_minor": 2
}
