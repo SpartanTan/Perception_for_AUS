{
 "metadata": {
  "language_info": {
   "codemirror_mode": {
    "name": "ipython",
    "version": 3
   },
   "file_extension": ".py",
   "mimetype": "text/x-python",
   "name": "python",
   "nbconvert_exporter": "python",
   "pygments_lexer": "ipython3",
   "version": "3.7.10"
  },
  "orig_nbformat": 2,
  "kernelspec": {
   "name": "python3710jvsc74a57bd039134507ce6f5655d13d94c56afb0fdeffafd37719340bfb6ee19952651a09f5",
   "display_name": "Python 3.7.10 64-bit ('perception': conda)"
  }
 },
 "nbformat": 4,
 "nbformat_minor": 2,
 "cells": [
  {
   "cell_type": "code",
   "execution_count": 1,
   "metadata": {},
   "outputs": [],
   "source": [
    "import cv2\n",
    "import numpy as np"
   ]
  },
  {
   "cell_type": "code",
   "execution_count": 9,
   "metadata": {},
   "outputs": [
    {
     "output_type": "stream",
     "name": "stdout",
     "text": [
      "[40.71158446 -1.98395975 96.74699786]\n"
     ]
    }
   ],
   "source": [
    "rvec = (-0.05, -1.51, -0.00)\n",
    "tvec = (87.39, -2.25, -24.89)\n",
    "\n",
    "R,_ = cv2.Rodrigues(rvec)\n",
    "Cam_point = np.array((-6.71, 0.23, 21.59))\n",
    "World_point = np.transpose(R)@(Cam_point-np.array(tvec))\n",
    "World_point = R.T @ (Cam_point - np.array(tvec))\n",
    "print(World_point)"
   ]
  },
  {
   "cell_type": "code",
   "execution_count": null,
   "metadata": {},
   "outputs": [],
   "source": []
  }
 ]
}