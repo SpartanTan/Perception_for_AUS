{
 "cells": [
  {
   "cell_type": "code",
   "execution_count": null,
   "id": "b4266398",
   "metadata": {},
   "outputs": [],
   "source": [
    "import cv2\n",
    "import matplotlib.pyplot as plt\n",
    "import glob\n",
    "import imutils\n",
    "import numpy as np\n"
   ]
  },
  {
   "cell_type": "code",
   "execution_count": null,
   "id": "3e8df78d",
   "metadata": {},
   "outputs": [],
   "source": [
    "class DataLoader(object):#object是个\n",
    "    "
   ]
  },
  {
   "cell_type": "code",
   "execution_count": null,
   "id": "da47e4e5",
   "metadata": {},
   "outputs": [],
   "source": [
    "if __name__ = \"__main__\":\n",
    "    rightLoader = DataLoader('')\n",
    "    "
   ]
  }
 ],
 "metadata": {
  "kernelspec": {
   "display_name": "Python 3",
   "language": "python",
   "name": "python3"
  },
  "language_info": {
   "codemirror_mode": {
    "name": "ipython",
    "version": 3
   },
   "file_extension": ".py",
   "mimetype": "text/x-python",
   "name": "python",
   "nbconvert_exporter": "python",
   "pygments_lexer": "ipython3",
   "version": "3.7.10"
  }
 },
 "nbformat": 4,
 "nbformat_minor": 5
}
