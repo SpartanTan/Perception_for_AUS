{
 "cells": [
  {
   "cell_type": "markdown",
   "metadata": {},
   "source": [
    "# Stereo template matching/block matching\n"
   ]
  },
  {
   "cell_type": "code",
   "execution_count": null,
   "metadata": {
    "pycharm": {
     "name": "#%%\n"
    }
   },
   "outputs": [],
   "source": [
    "import cv2\n",
    "import numpy as np\n",
    "from matplotlib import pyplot as plt\n",
    "from skimage import data\n",
    "\n",
    "plt.gray()"
   ]
  },
  {
   "cell_type": "markdown",
   "metadata": {
    "pycharm": {
     "name": "#%% md\n"
    }
   },
   "source": [
    "Start by loading a set of corresponding left and right image. We also resize the images since the computations we expect to do can take a long time to process. Resizing is optional, but recommended atleast until you have verified your computer is capable of doing the computations within reasonable time."
   ]
  },
  {
   "cell_type": "code",
   "execution_count": null,
   "metadata": {
    "pycharm": {
     "name": "#%%\n"
    }
   },
   "outputs": [],
   "source": [
    "# load the images\n",
    "img_left = cv2.imread(\"playtable_left.png\")\n",
    "img_right = cv2.imread(\"playtable_right.png\")\n",
    "\n",
    "# rescale images (can be left out)\n",
    "img_size = (int(img_left.shape[1]/5), int(img_left.shape[0]/5))\n",
    "img_left = cv2.resize(img_left, img_size, interpolation=cv2.INTER_AREA)\n",
    "img_right = cv2.resize(img_right, img_size, interpolation=cv2.INTER_AREA)\n",
    "\n",
    "# convert images to grayscale for template matching\n",
    "gray_left = cv2.cvtColor(img_left, cv2.COLOR_BGR2GRAY)\n",
    "gray_right = cv2.cvtColor(img_right, cv2.COLOR_BGR2GRAY)\n",
    "\n",
    "f, (ax_left, ax_right) = plt.subplots(1, 2, figsize=(18,18))\n",
    "ax_left.imshow(gray_left)\n",
    "ax_right.imshow(gray_right)"
   ]
  },
  {
   "cell_type": "markdown",
   "metadata": {},
   "source": [
    "Next step is to create a disparity map based on the two stereo images. This is done using the same procedure as we did with exercise 1, except now we look for blocks of pixel from the left image in the right image, or vice versa.\n",
    "\n",
    "## Exercise 2.1\n",
    "You will have to play with the below parameters until you find a good solution that gives a representative 3D projection. Reflect/search on what those parameters actually mean and how they influence the outcome."
   ]
  },
  {
   "cell_type": "code",
   "execution_count": null,
   "metadata": {
    "pycharm": {
     "name": "#%%\n"
    }
   },
   "outputs": [],
   "source": [
    "min_disp = 7\n",
    "num_disp = 3 * 16\n",
    "block_size = 5\n",
    "stereo = cv2.StereoBM_create(numDisparities = num_disp, blockSize = block_size)\n",
    "stereo.setMinDisparity(min_disp)\n",
    "stereo.setDisp12MaxDiff(200)\n",
    "stereo.setUniquenessRatio(1)\n",
    "stereo.setSpeckleRange(3)\n",
    "stereo.setSpeckleWindowSize(3)\n",
    "\n",
    "disp = stereo.compute(gray_left, gray_right).astype(np.float32) / 16.0\n",
    "\n",
    "plt.figure(figsize=(18,18))\n",
    "plt.imshow(disp)"
   ]
  },
  {
   "cell_type": "markdown",
   "metadata": {},
   "source": [
    "## Exercise 2.2\n",
    "Once you have a disparity map without too much noise, you can use the below to export you disparity map to a .ply file that you can load and display in meshlab.\n",
    "\n",
    "**Hint:** To open meshlab type `meshlab` in a terminal or click on `Activities` in the top left corner and search for `meshlab`. Then clik `File` > `Import Mesh` and navigate to where our source-code is located and open `out.ply`."
   ]
  },
  {
   "cell_type": "code",
   "execution_count": null,
   "metadata": {
    "pycharm": {
     "name": "#%%\n"
    }
   },
   "outputs": [],
   "source": [
    "def export_pointcloud(disparity_map, colors):\n",
    "    ply_header = '''ply\n",
    "    format ascii 1.0\n",
    "    element vertex %(vert_num)d\n",
    "    property float x\n",
    "    property float y\n",
    "    property float z\n",
    "    property uchar red\n",
    "    property uchar green\n",
    "    property uchar blue\n",
    "    end_header\n",
    "    '''\n",
    "\n",
    "    def write_ply(fn, verts, colors):\n",
    "        verts = verts.reshape(-1, 3)\n",
    "        colors = colors.reshape(-1, 3)\n",
    "        verts = np.hstack([verts, colors])\n",
    "        with open(fn, 'wb') as f:\n",
    "            f.write((ply_header % dict(vert_num=len(verts))).encode('utf-8'))\n",
    "            np.savetxt(f, verts, fmt='%f %f %f %d %d %d ')\n",
    "\n",
    "    h, w = disparity_map.shape[:2]\n",
    "    f = .8 * w  # guess for focal length. If you 3D reconstruction looks skewed in the viewing direction, try adjusting this parameter.\n",
    "    Q = np.float32([[1, 0, 0, -0.5 * w],\n",
    "                    [0, -1, 0, 0.5 * h],  # turn points 180 deg around x-axis,\n",
    "                    [0, 0, 0, -f],  # so that y-axis looks up\n",
    "                    [0, 0, 1, 0]])\n",
    "    points = cv2.reprojectImageTo3D(disparity_map, Q)\n",
    "    \n",
    "    mask = disparity_map > disparity_map.min()\n",
    "    out_points = points[mask]\n",
    "    out_colors = colors[mask]\n",
    "    out_fn = 'out.ply'\n",
    "    write_ply('out.ply', out_points, out_colors)\n",
    "    print(f'{out_fn} saved')\n",
    "\n",
    "export_pointcloud(disparity_map=disp, colors=img_left)"
   ]
  },
  {
   "cell_type": "markdown",
   "metadata": {
    "pycharm": {
     "name": "#%%\n"
    }
   },
   "source": [
    "## Exercise 2.3\n",
    "\n",
    "Create a disparity map of the imageset `storage` and display it in meshlab."
   ]
  },
  {
   "cell_type": "code",
   "execution_count": null,
   "metadata": {},
   "outputs": [],
   "source": []
  }
 ],
 "metadata": {
  "kernelspec": {
   "display_name": "Python 3",
   "language": "python",
   "name": "python3"
  },
  "language_info": {
   "codemirror_mode": {
    "name": "ipython",
    "version": 3
   },
   "file_extension": ".py",
   "mimetype": "text/x-python",
   "name": "python",
   "nbconvert_exporter": "python",
   "pygments_lexer": "ipython3",
   "version": "3.7.3"
  },
  "pycharm": {
   "stem_cell": {
    "cell_type": "raw",
    "metadata": {
     "collapsed": false
    },
    "source": []
   }
  }
 },
 "nbformat": 4,
 "nbformat_minor": 1
}
