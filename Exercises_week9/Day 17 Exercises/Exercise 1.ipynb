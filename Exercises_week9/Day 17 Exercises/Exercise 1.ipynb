{
 "cells": [
  {
   "cell_type": "markdown",
   "metadata": {},
   "source": [
    "# Exercise 1 - 3D - 2D"
   ]
  },
  {
   "cell_type": "code",
   "execution_count": 82,
   "metadata": {},
   "outputs": [],
   "source": [
    "import numpy as np\n",
    "import cv2 as cv2\n",
    "from numpy.linalg import inv, pinv, norm\n",
    "import matplotlib.pyplot as plt"
   ]
  },
  {
   "cell_type": "markdown",
   "metadata": {},
   "source": [
    "Recall from the slides the steps from Algorithm 3:\n",
    "\n",
    "![title](algorithm_3.png)\n",
    "\n",
    "![title](PnP.png)\n",
    "\n",
    "# Exercise 1a)\n",
    "The steps 1)-2.1) has already been done, and is saved in corresponding files. The exercise is to implement step 2.2) by filling in the missing code below"
   ]
  },
  {
   "cell_type": "code",
   "execution_count": 119,
   "metadata": {},
   "outputs": [],
   "source": [
    "def featureTracking(prev_img, next_img, prev_points, world_points):\n",
    "    \"\"\"\n",
    "    Use OpenCV to find the prev_points from the prev_img in the next_img\n",
    "    Remember to remove points that could not be found from prev_points, next_points, and world_points\n",
    "    hint: status == 1\n",
    "    \"\"\"\n",
    "    prev_points_list = []\n",
    "    world_points_list = []\n",
    "    next_points_list = []\n",
    "    \n",
    "    feature_params = dict(maxCorners=100,\n",
    "              qualityLevel=0.3, \n",
    "              minDistance=7)\n",
    "    \n",
    "    lk_params = dict(winSize=(21, 21),\n",
    "                 maxLevel=3,\n",
    "                 criteria=(cv2.TERM_CRITERIA_EPS | cv2.TERM_CRITERIA_COUNT, 30, 0.01))\n",
    "    \n",
    "    #prev_img_gray = cv2.cvtColor(prev_img, cv2.COLOR_RGB2GRAY)\n",
    "    #next_img_gary = cv2.cvtColor(next_img, cv2.COLOR_RGB2GRAY)\n",
    "    #feat1 = cv2.goodFeaturesToTrack(prev_img_gray, **feature_params)\n",
    "    #featt = np.int0(feat1)\n",
    "    \n",
    "    #next_points, status, _ = ...\n",
    "    next_points, status, error = cv2.calcOpticalFlowPyrLK(prev_img, next_img, prev_points, None, **lk_params)\n",
    "    \n",
    "    #next_points = next_points[status==1]\n",
    "    #prev_points = prev_points[status==1]\n",
    "    #world_points = world_points[status==1]\n",
    "    for i in range(len(prev_points)):\n",
    "        if(status[i] == 1):\n",
    "            prev_points_list.append(prev_points[i])\n",
    "            world_points_list.append(world_points[i])\n",
    "            next_points_list.append(next_points[i])\n",
    "    \n",
    "    world_points = np.array(world_points_list, dtype = np.float64)\n",
    "    prev_points = np.array(prev_points_list, dtype = np.float64)\n",
    "    next_points = np.array(next_points_list, dtype = np.float64) \n",
    "    \n",
    "    return world_points, prev_points, next_points"
   ]
  },
  {
   "cell_type": "markdown",
   "metadata": {},
   "source": [
    "Hint: Exercise 4 in week 2\n",
    "\n",
    "# Exercise 1b)\n",
    "Continue the algorithm by implementing step 2.3)"
   ]
  },
  {
   "cell_type": "code",
   "execution_count": 120,
   "metadata": {
    "scrolled": false
   },
   "outputs": [
    {
     "name": "stdout",
     "output_type": "stream",
     "text": [
      "cycle: 1\n",
      " \n",
      "[483.41260207] [294.51377037] [343.46146785] [-3597.05673022] [-3572.9968705] [4785.31137953]\n",
      "cycle: 2\n",
      " \n",
      "[0.00318923] [0.01593734] [-1.47947453] [-101.80422063] [153.111999] [-114.80733333]\n",
      "cycle: 3\n",
      " \n",
      "[0.00032921] [0.00596972] [-0.72590177] [-51.5248016] [106.19795174] [-14.08760801]\n",
      "cycle: 4\n",
      " \n",
      "[0.00182074] [0.00337485] [-0.47615848] [-33.42294736] [73.56745955] [-5.4424258]\n",
      "cycle: 5\n",
      " \n",
      "[0.00049759] [0.00241971] [-0.3528914] [-19.22820564] [55.25493405] [1.43781174]\n"
     ]
    }
   ],
   "source": [
    "K = np.array([[7.188560e+02, 0.000000e+00, 6.071928e+02], # camera matrix\n",
    "              [0, 7.188560e+02, 1.852157e+02],\n",
    "              [0, 0, 1]])\n",
    "\n",
    "reference_img = np.load(\"img_\" + str(0) + \".npy\")\n",
    "\n",
    "for t in range(1, 6):\n",
    "\n",
    "    # the image at current time=t\n",
    "    curImage = np.load(\"img_\" + str(t) + \".npy\")\n",
    "    # the 3D landmarks in the world coordinates which have been computed in time=t-1\n",
    "    landmark_3D = np.load(\"landmark_\" + str(t-1) + \".npy\")\n",
    "    # the 2D coordinates of the 3D points in the previous frame at time=t-1\n",
    "    reference_2D = np.load(\"reference_2D_\" + str(t-1) + \".npy\")\n",
    "    \n",
    "    # the 2D landmarks at the current time = t\n",
    "    landmark_3D, reference_2D, tracked_2Dpoints = featureTracking(reference_img, \n",
    "                                                                  curImage, \n",
    "                                                                  reference_2D,\n",
    "                                                                  landmark_3D)\n",
    "    \"\"\"\n",
    "    Using OpenCV, implement PnP using Ransac\n",
    "    \"\"\"\n",
    "    #_, rvec, tvec, inliers = ...\n",
    "    #bring points from model coordinate system to camera system  \n",
    "    ret, rvec, tvec, inliers = cv2.solvePnPRansac(landmark_3D, tracked_2Dpoints, K, None)\n",
    "    \"\"\"\n",
    "    Transform the translation and rotation into the world frame\n",
    "    \"\"\"\n",
    "    \n",
    "    tvec = pinv(tvec)\n",
    "    tvec = tvec.reshape((3,1))\n",
    "    rvec = pinv(rvec)\n",
    "    rvec = rvec.reshape((3,1))\n",
    "    print(\"cycle: %d\\n \"%t)\n",
    "    print(tvec[0], tvec[1], tvec[2], rvec[0], rvec[1], rvec[2])\n",
    "\n",
    "    # update for next timestep\n",
    "    reference_img = curImage\n"
   ]
  },
  {
   "cell_type": "markdown",
   "metadata": {},
   "source": [
    "Hint: The output should look similar to:\n",
    "\n",
    "[-0.00110282] [-0.00067164] [-0.00078343] [-7.40069212e-05] [-7.35119065e-05] [9.84544279e-05]\n",
    "\n",
    "[-0.00363946] [-0.00875075] [0.67580842] [-0.0021666] [0.00325853] [-0.00244333]\n",
    "\n",
    "[-0.01096271] [-0.01635663] [1.3774094] [-0.00364615] [0.0075151] [-0.00099691]\n",
    "\n",
    "[-0.0315663] [-0.02560111] [2.0996797] [-0.00509583] [0.01121646] [-0.00082978]\n",
    "\n",
    "[-0.04971858] [-0.03532535] [2.8330071] [-0.00561424] [0.0161333] [0.00041981]"
   ]
  },
  {
   "cell_type": "markdown",
   "metadata": {},
   "source": [
    "# Exercise 1c)\n",
    "What approximate direction did the camera move in?"
   ]
  },
  {
   "cell_type": "code",
   "execution_count": null,
   "metadata": {},
   "outputs": [],
   "source": []
  },
  {
   "cell_type": "code",
   "execution_count": null,
   "metadata": {},
   "outputs": [],
   "source": []
  }
 ],
 "metadata": {
  "kernelspec": {
   "display_name": "Python 3",
   "language": "python",
   "name": "python3"
  },
  "language_info": {
   "codemirror_mode": {
    "name": "ipython",
    "version": 3
   },
   "file_extension": ".py",
   "mimetype": "text/x-python",
   "name": "python",
   "nbconvert_exporter": "python",
   "pygments_lexer": "ipython3",
   "version": "3.7.10"
  }
 },
 "nbformat": 4,
 "nbformat_minor": 2
}
