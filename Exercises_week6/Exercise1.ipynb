{
 "cells": [
  {
   "cell_type": "markdown",
   "metadata": {},
   "source": [
    "# Exersice 1\n",
    "We are going to work on linear regression\n",
    "initially we will work on 2d points and then expand it out to 3d."
   ]
  },
  {
   "cell_type": "code",
   "execution_count": null,
   "metadata": {},
   "outputs": [],
   "source": [
    "import numpy as np\n",
    "import open3d as o3d\n",
    "from matplotlib import pyplot as plt\n",
    "from sklearn.linear_model import LinearRegression\n",
    "from mpl_toolkits.mplot3d import Axes3D\n",
    "%matplotlib notebook\n",
    "\n",
    "# Generate 'random' data\n",
    "np.random.seed(0)\n",
    "x = 2.5 * np.random.randn(100) + 1.5   # Array of 100 values with mean = 1.5, stddev = 2.5\n",
    "res = 0.5 * np.random.randn(100)       # Generate 100 residual terms\n",
    "y = 2 + 0.3 * x + res                  # Actual values of Y\n"
   ]
  },
  {
   "cell_type": "markdown",
   "metadata": {},
   "source": [
    "We can use Linear regression from the *sklearn* package.\n",
    "Here we setup the model to fit to x and y."
   ]
  },
  {
   "cell_type": "code",
   "execution_count": null,
   "metadata": {},
   "outputs": [],
   "source": [
    "x_r = x.reshape(-1,1) #fit needs x in this shape\n",
    "# Initialise and fit model\n",
    "lm = LinearRegression()\n",
    "model = lm.fit(x_r, y)"
   ]
  },
  {
   "cell_type": "markdown",
   "metadata": {},
   "source": [
    "We can now predict new outcomes given new data."
   ]
  },
  {
   "cell_type": "code",
   "execution_count": null,
   "metadata": {},
   "outputs": [],
   "source": [
    "# Draw a new datapoint\n",
    "tst_x = 2.5 * np.random.randn(1).reshape(-1,1) + 1.5   \n",
    "print(tst_x)\n",
    "resulting_y = model.predict(tst_x)\n",
    "print(resulting_y)"
   ]
  },
  {
   "cell_type": "markdown",
   "metadata": {},
   "source": [
    "Drawing 200 new samples and plotting them as a line shows us that we have gotten a decent fit."
   ]
  },
  {
   "cell_type": "code",
   "execution_count": null,
   "metadata": {
    "scrolled": false
   },
   "outputs": [],
   "source": [
    "new_x = 2.5 * np.random.randn(200).reshape(-1,1) + 1.5   \n",
    "predicted = model.predict(new_x)\n",
    "plt.figure(figsize=(8, 6))\n",
    "plt.plot(new_x, predicted)     # regression line\n",
    "plt.plot(x, y, 'ro')   # scatter plot showing actual data\n",
    "plt.title('Actual vs Predicted')\n",
    "plt.xlabel('x')\n",
    "plt.ylabel('y')\n",
    "plt.show()"
   ]
  },
  {
   "cell_type": "markdown",
   "metadata": {},
   "source": [
    "## Exercises\n",
    "### A\n",
    "Using Ordinary Least squares attempt to get a regression line that is equal to the one sklearn provides.\n",
    "\n",
    "Assuming\n",
    "Yₑ = α + β X\n",
    "\n",
    "![ols.gif](ols.gif \"ols\")\n",
    "\n",
    "- β = Cov(X, Y) / Var(X).\n",
    "- α = mean(Y)-β*mean(X)\n",
    "\n",
    "### B\n",
    "Extend what we have shown above to 3D predict a plane using Linear regression given a point cloud.\n",
    "\n",
    "Planes can be plotted with \n",
    "```{Python}\n",
    "x = np.linspace(start, end, n)\n",
    "y = np.linspace(start, end, n)\n",
    "xx, yy = np.meshgrid(x_t, y_t)\n",
    "\n",
    "ax.plot_surface(xx, yy, predicted_zz, alpha=0.2)\n",
    "```"
   ]
  },
  {
   "cell_type": "code",
   "execution_count": null,
   "metadata": {},
   "outputs": [],
   "source": [
    "# Creating a pointcloud.\n",
    "pc = o3d.io.read_point_cloud(\"TestData/spread_points.ply\")\n",
    "xyz = np.asarray(pc.points)\n",
    "\n",
    "fig = plt.figure(figsize=(6,4))\n",
    "ax = plt.axes(projection='3d')\n",
    "ax.scatter3D(xyz[:,0], xyz[:,1], xyz[:,2], color = 'red')\n",
    "ax.set_xlabel('x', fontsize=12)\n",
    "ax.set_ylabel('y', fontsize=12)\n",
    "ax.set_zlabel('z', fontsize=12)\n",
    "plt.show()\n"
   ]
  },
  {
   "cell_type": "code",
   "execution_count": null,
   "metadata": {},
   "outputs": [],
   "source": [
    "## We want to predict Z\n",
    "xy = xyz[:,:2] # our inputs\n",
    "z = xyz[:,2].reshape(-1,1) # our targets"
   ]
  }
 ],
 "metadata": {
  "kernelspec": {
   "display_name": "Python 3",
   "language": "python",
   "name": "python3"
  },
  "language_info": {
   "codemirror_mode": {
    "name": "ipython",
    "version": 3
   },
   "file_extension": ".py",
   "mimetype": "text/x-python",
   "name": "python",
   "nbconvert_exporter": "python",
   "pygments_lexer": "ipython3",
   "version": "3.6.8"
  },
  "toc": {
   "base_numbering": 1,
   "nav_menu": {},
   "number_sections": true,
   "sideBar": true,
   "skip_h1_title": false,
   "title_cell": "Table of Contents",
   "title_sidebar": "Contents",
   "toc_cell": false,
   "toc_position": {},
   "toc_section_display": true,
   "toc_window_display": false
  },
  "varInspector": {
   "cols": {
    "lenName": 16,
    "lenType": 16,
    "lenVar": 40
   },
   "kernels_config": {
    "python": {
     "delete_cmd_postfix": "",
     "delete_cmd_prefix": "del ",
     "library": "var_list.py",
     "varRefreshCmd": "print(var_dic_list())"
    },
    "r": {
     "delete_cmd_postfix": ") ",
     "delete_cmd_prefix": "rm(",
     "library": "var_list.r",
     "varRefreshCmd": "cat(var_dic_list()) "
    }
   },
   "types_to_exclude": [
    "module",
    "function",
    "builtin_function_or_method",
    "instance",
    "_Feature"
   ],
   "window_display": false
  }
 },
 "nbformat": 4,
 "nbformat_minor": 4
}
